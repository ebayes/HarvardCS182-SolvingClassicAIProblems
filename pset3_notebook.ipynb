{
  "nbformat": 4,
  "nbformat_minor": 0,
  "metadata": {
    "colab": {
      "name": "Ed_Bayes Pset3_programming_182_student.ipynb",
      "provenance": [],
      "collapsed_sections": []
    },
    "kernelspec": {
      "name": "python3",
      "display_name": "Python 3"
    }
  },
  "cells": [
    {
      "cell_type": "markdown",
      "metadata": {
        "id": "CrKGJ-GK82yM"
      },
      "source": [
        "# Overall Setup [no changes]"
      ]
    },
    {
      "cell_type": "markdown",
      "metadata": {
        "id": "odNaDE1zyrL2"
      },
      "source": [
        "Install dependancies and functions for displaying videos\n",
        "\n",
        "Setup code source: StarAI\n",
        "\n"
      ]
    },
    {
      "cell_type": "code",
      "metadata": {
        "id": "8-AxnvAVyzQQ"
      },
      "source": [
        "#CELL 1\n",
        "#remove \" > /dev/null 2>&1\" to see what is going on under the hood\n",
        "!pip install gym pyvirtualdisplay > /dev/null 2>&1\n",
        "!apt-get install -y xvfb python-opengl ffmpeg > /dev/null 2>&1"
      ],
      "execution_count": 134,
      "outputs": []
    },
    {
      "cell_type": "code",
      "metadata": {
        "id": "TCelFzWY9MBI",
        "colab": {
          "base_uri": "https://localhost:8080/"
        },
        "outputId": "c33e3baa-ec1f-4b27-ab11-4d8a1911d989"
      },
      "source": [
        "#CELL 2\n",
        "!apt-get update > /dev/null 2>&1\n",
        "!apt-get install cmake > /dev/null 2>&1\n",
        "!pip install --upgrade setuptools 2>&1\n",
        "!pip install ez_setup > /dev/null 2>&1\n",
        "!pip install gym[box2d] > /dev/null 2>&1"
      ],
      "execution_count": 135,
      "outputs": [
        {
          "output_type": "stream",
          "text": [
            "Requirement already up-to-date: setuptools in /usr/local/lib/python3.6/dist-packages (50.3.2)\n"
          ],
          "name": "stdout"
        }
      ]
    },
    {
      "cell_type": "code",
      "metadata": {
        "id": "pdb2JwZy4jGj"
      },
      "source": [
        "import gym\n",
        "from gym import logger as gymlogger\n",
        "from gym.wrappers import Monitor\n",
        "gymlogger.set_level(40) #error only\n",
        "import tensorflow as tf\n",
        "import numpy as np\n",
        "import random\n",
        "import matplotlib\n",
        "import matplotlib.pyplot as plt\n",
        "%matplotlib inline\n",
        "import math\n",
        "import glob\n",
        "import io\n",
        "import base64\n",
        "from IPython.display import HTML\n",
        "\n",
        "from IPython import display as ipythondisplay\n",
        "\n",
        "#CELL 3"
      ],
      "execution_count": 136,
      "outputs": []
    },
    {
      "cell_type": "code",
      "metadata": {
        "id": "nQEtc28G4niA",
        "colab": {
          "base_uri": "https://localhost:8080/"
        },
        "outputId": "3465fdd2-979f-48c7-9612-c1886ae8ae6b"
      },
      "source": [
        "from pyvirtualdisplay import Display\n",
        "#CELL 4\n",
        "\n",
        "display = Display(visible=0, size=(1400, 900))\n",
        "display.start()"
      ],
      "execution_count": 137,
      "outputs": [
        {
          "output_type": "execute_result",
          "data": {
            "text/plain": [
              "<pyvirtualdisplay.display.Display at 0x7f0acd818be0>"
            ]
          },
          "metadata": {
            "tags": []
          },
          "execution_count": 137
        }
      ]
    },
    {
      "cell_type": "code",
      "metadata": {
        "id": "G9UWeToN4r7D"
      },
      "source": [
        "\"\"\"\n",
        "Utility functions to enable video recording of gym environment and displaying it\n",
        "To enable video, just do \"env = wrap_env(env)\"\"\n",
        "\"\"\"\n",
        "#CELL 5\n",
        "\n",
        "def show_video(folder):\n",
        "  mp4list = glob.glob(folder+'/*.mp4')\n",
        "  if len(mp4list) > 0:\n",
        "    mp4 = mp4list[0]\n",
        "    video = io.open(mp4, 'r+b').read()\n",
        "    encoded = base64.b64encode(video)\n",
        "    ipythondisplay.display(HTML(data='''<video alt=\"test\" autoplay \n",
        "                loop controls style=\"height: 400px;\">\n",
        "                <source src=\"data:video/mp4;base64,{0}\" type=\"video/mp4\" />\n",
        "             </video>'''.format(encoded.decode('ascii'))))\n",
        "  else: \n",
        "    print(\"Could not find video\")\n",
        "    \n",
        "\n",
        "def wrap_env(env, folder):\n",
        "  env = Monitor(env, './'+folder, force=True)\n",
        "  return env"
      ],
      "execution_count": 138,
      "outputs": []
    },
    {
      "cell_type": "markdown",
      "metadata": {
        "id": "W3BGbWOu179M"
      },
      "source": [
        "# Lunar Lander Setup! [no changes, but look at output]\n",
        "For more information about the domain, visit\n",
        "https://gym.openai.com/envs/LunarLander-v2/"
      ]
    },
    {
      "cell_type": "code",
      "metadata": {
        "id": "dGEFMfDOzLen"
      },
      "source": [
        "#CELL 6\n",
        "folder = 'video-test'\n",
        "#create the lunar lander environment\n",
        "env = wrap_env(gym.make(\"LunarLander-v2\"),folder)"
      ],
      "execution_count": 139,
      "outputs": []
    },
    {
      "cell_type": "code",
      "metadata": {
        "id": "7BmIlXhe9Q89",
        "colab": {
          "base_uri": "https://localhost:8080/"
        },
        "outputId": "deeeaa46-ac3e-4613-f568-b510adf00a56"
      },
      "source": [
        "#CELL 7\n",
        "#check out the lunar lander action space! \n",
        "#There are 8 states as defined in the GitHub, 6 of which are continuous and the final 2 are binary\n",
        "print(env.observation_space.shape[0])\n",
        "#There are 4 actions (fire the main engine, left engine, right engine, or do nothing)\n",
        "print(env.action_space)"
      ],
      "execution_count": 140,
      "outputs": [
        {
          "output_type": "stream",
          "text": [
            "8\n",
            "Discrete(4)\n"
          ],
          "name": "stdout"
        }
      ]
    },
    {
      "cell_type": "code",
      "metadata": {
        "id": "8nj5sjsk15IT",
        "colab": {
          "base_uri": "https://localhost:8080/",
          "height": 421
        },
        "outputId": "e30eeb85-cb04-46ac-fb53-f624a17a4811"
      },
      "source": [
        "#CELL 8\n",
        "#This is the baseline code to be able to implement the RL algorithms!\n",
        "observation = env.reset()\n",
        "\n",
        "while True:\n",
        "    env.render()\n",
        "\n",
        "    #your agent goes here\n",
        "    action = env.action_space.sample()  #this is a random agent\n",
        "         \n",
        "    observation, reward, done, info = env.step(action) \n",
        "    \n",
        "    if done: \n",
        "      break;        \n",
        "env.close()\n",
        "show_video(folder)"
      ],
      "execution_count": 141,
      "outputs": [
        {
          "output_type": "display_data",
          "data": {
            "text/html": [
              "<video alt=\"test\" autoplay \n",
              "                loop controls style=\"height: 400px;\">\n",
              "                <source src=\"data:video/mp4;base64,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\" type=\"video/mp4\" />\n",
              "             </video>"
            ],
            "text/plain": [
              "<IPython.core.display.HTML object>"
            ]
          },
          "metadata": {
            "tags": []
          }
        }
      ]
    },
    {
      "cell_type": "markdown",
      "metadata": {
        "id": "pSsv0RnwHtZK"
      },
      "source": [
        "# Q-Learning Implementation"
      ]
    },
    {
      "cell_type": "code",
      "metadata": {
        "id": "FZjtObyYHyWl"
      },
      "source": [
        "#CELL 9\n",
        "#create the lunar lander environment\n",
        "\n",
        "\"\"\"\n",
        "TODO: Discretizing the continuous observation state space. The final two values\n",
        "    are binary and therefore only have 2 values (0 or 1) but the other values \n",
        "    can be separated into any number of buckets (greater than 3).\n",
        "    According to OpenAI \"the useful range is -1 .. +1, but spikes can be higher\"\n",
        "\"\"\"\n",
        "# translate\n",
        "\n",
        "bucket_num = [16,16,5,5,5,5,2,2] #some default values! Set your own. \n",
        "\n",
        "def get_Q_state(state):\n",
        "    \"\"\"\n",
        "    OPTIONAL: change the bucketing method!\n",
        "    This method takes the state (a length 8 numpy array) from the environment\n",
        "    and returns a string (the state string)encoding the discrete states \n",
        "    (formatted with dashes between values). \n",
        "    \"\"\"\n",
        "    assert(state.shape[0] == 8)\n",
        "\n",
        "    bucket = [0. for index in range(8)]\n",
        "    \n",
        "    for index in range(8):\n",
        "        if (index == 6 or index == 7):\n",
        "            bucket[index] = int(state[index])\n",
        "        else:\n",
        "            # removed non-useful range (<-1 or >1)\n",
        "            if (state[index] <= -1):\n",
        "                bucket[index] = 0\n",
        "            elif (state[index] >= 1):\n",
        "                bucket[index] = bucket_num[index]-1\n",
        "            else: #several uniform buckets for the other indexes\n",
        "                bucket[index] = int((state[index]+2)*bucket_num[index]//4)\n",
        "    # print(state)\n",
        "    bucket_string = \"\"\n",
        "    for index in range(8):\n",
        "        bucket_string = bucket_string + str(bucket[index]) + \"-\"\n",
        "    \n",
        "    return bucket_string[:-1]"
      ],
      "execution_count": 142,
      "outputs": []
    },
    {
      "cell_type": "code",
      "metadata": {
        "id": "wvfYuNnhJQID",
        "colab": {
          "base_uri": "https://localhost:8080/"
        },
        "outputId": "80304e97-ccc2-47dc-c766-7d7235bc54d7"
      },
      "source": [
        "#CELL 10\n",
        "import random\n",
        "from IPython.display import clear_output\n",
        "import pickle\n",
        "\n",
        "folder = 'video-final'\n",
        "env = wrap_env(gym.make(\"LunarLander-v2\"),folder)\n",
        "\n",
        "# initialise Q table to 0\n",
        "q_table = {}\n",
        "\n",
        "# Hyperparameters\n",
        "alpha = 0.1\n",
        "alpha_decay = 0.9\n",
        "alpha_min = 0.0001\n",
        "gamma = 0.99 \n",
        "epsilon = 0.001 \n",
        "epsilon_decay = 0.99\n",
        "epsilon_min = 0.00001\n",
        "episodes = 3000\n",
        "\n",
        "\n",
        "# For plotting metrics\n",
        "all_epochs = [] #store the number of epochs per episode\n",
        "all_rewards = [] #store the penalties per episode\n",
        "\n",
        "# get next optimal action function\n",
        "def get_action(bucket_state):\n",
        "  q_array = []\n",
        "  # index into q table with state and action (iterating over 4 actions)\n",
        "  for action in range(0, 3): \n",
        "    if (bucket_state, action) in q_table:\n",
        "      q_array.append(q_table[(bucket_state, action)])\n",
        "    else:\n",
        "      q_array.append(0)\n",
        "  maximum_value = max(q_array)\n",
        "  return q_array.index(maximum_value)\n",
        "\n",
        "for i in range(0, episodes):\n",
        "    state = env.reset()\n",
        "    epochs, total_reward = 0, 0\n",
        "    # decay epsilon\n",
        "    if epsilon > epsilon_min:\n",
        "      epsilon = epsilon * epsilon_decay\n",
        "    else:\n",
        "      epsilon = epsilon_min\n",
        "  \n",
        "    # decay alpha\n",
        "    if alpha > alpha_min:\n",
        "      alpha = alpha * alpha_decay\n",
        "    else:\n",
        "      alpha = alpha_min\n",
        "    \n",
        "    done = False\n",
        "    while not done:\n",
        "\n",
        "        #get bucket state from q table\n",
        "        bucket_state = get_Q_state(state)\n",
        "\n",
        "        # choose action\n",
        "        if random.random() < epsilon: \n",
        "          action = random.sample([0, 1, 2, 3], 1)[0] \n",
        "        else:\n",
        "          action = get_action(bucket_state) \n",
        "\n",
        "        # feed into n.step function to give you new state, reward and flag\n",
        "        next_state, reward, done, info = env.step(action) \n",
        "\n",
        "        next_bucket_state = get_Q_state(next_state)\n",
        "           \n",
        "        # use action and new state to update q table using q learning \n",
        "        if (bucket_state, action) in q_table:\n",
        "          q_table[(bucket_state, action)] = q_table[(bucket_state, action)] + alpha * (reward + gamma * get_action(next_bucket_state) - q_table[(bucket_state, action)])\n",
        "        else:\n",
        "          q_table[(bucket_state, action)] = alpha * (reward + gamma * get_action(next_bucket_state))\n",
        "\n",
        "        #S <-- S'\n",
        "        state = next_state\n",
        "\n",
        "        # Update counter\n",
        "        epochs += 1\n",
        "        total_reward += reward \n",
        "\n",
        "        # Until S is terminal\n",
        "        if done:\n",
        "          break;\n",
        "        \n",
        "    if i % 50 == 0:\n",
        "        clear_output(wait=True)\n",
        "    #print(f\"Episode: {i},\\t Epochs: {epochs},\\tReward: {total_reward}\")\n",
        "    \n",
        "    all_epochs.append(epochs)\n",
        "    all_rewards.append(total_reward)\n",
        "\n",
        "    if i % 1000 == 0: #adjust to save the q_table dictionary at checkpoints\n",
        "        pickle.dump( q_table, open( \"q_table.p\", \"wb\" ) )\n",
        "\n",
        "q_pair_num = (bucket_num[0]^6*2*2*4)*((sum(all_epochs)/len(all_epochs))/episodes)\n",
        "print(f\"Results for {q_pair_num} q values pairs:\")\n",
        "print(\"Training finished.\\n\")"
      ],
      "execution_count": 143,
      "outputs": [
        {
          "output_type": "stream",
          "text": [
            "Results for 3.9204106666666663 q values pairs:\n",
            "Training finished.\n",
            "\n"
          ],
          "name": "stdout"
        }
      ]
    },
    {
      "cell_type": "code",
      "metadata": {
        "id": "qORUR9hgJUBw",
        "colab": {
          "base_uri": "https://localhost:8080/"
        },
        "outputId": "68e58e03-91ae-45fd-f3db-5263df04139f"
      },
      "source": [
        "#CELL 11\n",
        "\"\"\"\n",
        "Some sample code to help you evaluate agent's performance after Q-learning!\n",
        "Adjust accordingly to generate some nice metrics. \n",
        "This code will not be graded.\n",
        "\"\"\"\n",
        "folder = 'video-eval'\n",
        "env = wrap_env(gym.make(\"LunarLander-v2\"),folder)\n",
        "q_table = pickle.load( open( \"q_table.p\", \"rb\" ) )\n",
        "\n",
        "total_epochs, total_reward = 0, 0\n",
        "episodes = 100\n",
        "\n",
        "for _ in range(episodes):\n",
        "    state = env.reset()\n",
        "    epochs, epoch_reward = 0, 0\n",
        "\n",
        "    done = False\n",
        "    \n",
        "    while not done:\n",
        "        state_string = get_Q_state(state)\n",
        "        action = get_action(state_string)\n",
        "        state, reward, done, info = env.step(action)\n",
        "\n",
        "        epochs += 1\n",
        "        epoch_reward += reward\n",
        "\n",
        "    total_reward += epoch_reward\n",
        "    total_epochs += epochs\n",
        "\n",
        "print(f\"Results after {episodes} episodes:\")\n",
        "print(f\"Average timesteps per episode: {total_epochs / episodes}\")\n",
        "print(f\"Average reward per episode: {total_reward / episodes}\")"
      ],
      "execution_count": 144,
      "outputs": [
        {
          "output_type": "stream",
          "text": [
            "Results after 100 episodes:\n",
            "Average timesteps per episode: 137.36\n",
            "Average reward per episode: -393.91952875042654\n"
          ],
          "name": "stdout"
        }
      ]
    },
    {
      "cell_type": "code",
      "metadata": {
        "id": "U9Qpt99fa_NX",
        "colab": {
          "base_uri": "https://localhost:8080/",
          "height": 421
        },
        "outputId": "f8132e8b-7492-48b4-b897-0827d1955328"
      },
      "source": [
        "#CELL 12\n",
        "\"\"\"\n",
        "TODO: Some sample code to help generate a video of a sample run! \n",
        "Adjust accordingly to generate some nice video files. \n",
        "This code will not be graded.\n",
        "\"\"\"\n",
        "folder = 'video-visual'\n",
        "env = wrap_env(gym.make(\"LunarLander-v2\"),folder)\n",
        "\n",
        "state = env.reset()\n",
        "\n",
        "while True:\n",
        "    env.render()\n",
        "\n",
        "    #your agent goes here\n",
        "    state_string = get_Q_state(state)\n",
        "    action = get_action(state_string)\n",
        "    state, reward, done, info = env.step(action)\n",
        "    \n",
        "    if done: \n",
        "      break;        \n",
        "env.close()\n",
        "show_video(folder)\n"
      ],
      "execution_count": 145,
      "outputs": [
        {
          "output_type": "display_data",
          "data": {
            "text/html": [
              "<video alt=\"test\" autoplay \n",
              "                loop controls style=\"height: 400px;\">\n",
              "                <source src=\"data:video/mp4;base64,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\" type=\"video/mp4\" />\n",
              "             </video>"
            ],
            "text/plain": [
              "<IPython.core.display.HTML object>"
            ]
          },
          "metadata": {
            "tags": []
          }
        }
      ]
    },
    {
      "cell_type": "code",
      "metadata": {
        "id": "P8XoOtRL3f3z",
        "colab": {
          "base_uri": "https://localhost:8080/",
          "height": 278
        },
        "outputId": "924f144a-0eba-4c3e-cb64-cfac329136fa"
      },
      "source": [
        "# CELL 12\n",
        "\n",
        "plt.plot([n for n in range(len(all_rewards))], all_rewards)\n",
        "plt.xlabel('Episodes')\n",
        "plt.ylabel('Total rewards')\n",
        "plt.show()"
      ],
      "execution_count": 146,
      "outputs": [
        {
          "output_type": "display_data",
          "data": {
            "image/png": "[encoded data removed]",
            "text/plain": [
              "<Figure size 432x288 with 1 Axes>"
            ]
          },
          "metadata": {
            "tags": [],
            "needs_background": "light"
          }
        }
      ]
    }
  ]
}